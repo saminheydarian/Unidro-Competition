{
 "cells": [
  {
   "cell_type": "code",
   "execution_count": 1,
   "metadata": {
    "executionInfo": {
     "elapsed": 377,
     "status": "ok",
     "timestamp": 1629797383473,
     "user": {
      "displayName": "Samin Heydarian",
      "photoUrl": "",
      "userId": "06538545177888260526"
     },
     "user_tz": -270
    },
    "id": "mI3y71SOefo7"
   },
   "outputs": [],
   "source": [
    "import os, os.path\n",
    "import pandas as pd"
   ]
  },
  {
   "cell_type": "code",
   "execution_count": 3,
   "metadata": {
    "colab": {
     "base_uri": "https://localhost:8080/"
    },
    "executionInfo": {
     "elapsed": 43532,
     "status": "ok",
     "timestamp": 1629797509169,
     "user": {
      "displayName": "Samin Heydarian",
      "photoUrl": "",
      "userId": "06538545177888260526"
     },
     "user_tz": -270
    },
    "id": "CKPb-jGJaz9J",
    "outputId": "7e8884c5-f6bd-47bf-aacd-d331e41b0ec4"
   },
   "outputs": [
    {
     "name": "stdout",
     "output_type": "stream",
     "text": [
      "Downloading...\n",
      "From: https://drive.google.com/uc?id=19p3qtGNlc_p12bi3wnbXtELUAR7CE6p8\n",
      "To: /content/data.zip\n",
      "1.45GB [00:12, 119MB/s] \n"
     ]
    }
   ],
   "source": [
    "!gdown --id 19p3qtGNlc_p12bi3wnbXtELUAR7CE6p8"
   ]
  },
  {
   "cell_type": "code",
   "execution_count": 4,
   "metadata": {
    "colab": {
     "base_uri": "https://localhost:8080/"
    },
    "executionInfo": {
     "elapsed": 35140,
     "status": "ok",
     "timestamp": 1629797546057,
     "user": {
      "displayName": "Samin Heydarian",
      "photoUrl": "",
      "userId": "06538545177888260526"
     },
     "user_tz": -270
    },
    "id": "WJL1keZWcrnm",
    "outputId": "4225507b-0e18-4343-e700-8e95a85485fc"
   },
   "outputs": [
    {
     "name": "stdout",
     "output_type": "stream",
     "text": [
      "Archive:  data.zip\n",
      "  inflating: from-to-rqd.xlsx        \n",
      "  inflating: label.xlsx              \n",
      "   creating: test-rqd/\n",
      "  inflating: test-rqd/M3-BH3299-1.jpg  \n",
      "  inflating: test-rqd/M3-BH3299-2.jpg  \n",
      "  inflating: test-rqd/M3-BH3299-3.jpg  \n",
      "  inflating: test-rqd/M3-BH3299-4.jpg  \n",
      "  inflating: test-rqd/M3-BH3299-5.jpg  \n",
      "  inflating: test-rqd/M3-BH3299-6.jpg  \n",
      "  inflating: test-rqd/M3-BH3299-7.jpg  \n",
      "  inflating: test-rqd/M3-BH3299-8.jpg  \n",
      "  inflating: test-rqd/M3-BH3299-9.jpg  \n",
      "  inflating: test-rqd/M3-BH3300-1.jpg  \n",
      "  inflating: test-rqd/M3-BH3300-10.jpg  \n",
      "  inflating: test-rqd/M3-BH3300-11.jpg  \n",
      "  inflating: test-rqd/M3-BH3300-12.jpg  \n",
      "  inflating: test-rqd/M3-BH3300-13.jpg  \n",
      "  inflating: test-rqd/M3-BH3300-14.jpg  \n",
      "  inflating: test-rqd/M3-BH3300-15.jpg  \n",
      "  inflating: test-rqd/M3-BH3300-16.jpg  \n",
      "  inflating: test-rqd/M3-BH3300-17.jpg  \n",
      "  inflating: test-rqd/M3-BH3300-18.jpg  \n",
      "  inflating: test-rqd/M3-BH3300-2.jpg  \n",
      "  inflating: test-rqd/M3-BH3300-3.jpg  \n",
      "  inflating: test-rqd/M3-BH3300-4.jpg  \n",
      "  inflating: test-rqd/M3-BH3300-5.jpg  \n",
      "  inflating: test-rqd/M3-BH3300-6.jpg  \n",
      "  inflating: test-rqd/M3-BH3300-7.jpg  \n",
      "  inflating: test-rqd/M3-BH3300-8.jpg  \n",
      "  inflating: test-rqd/M3-BH3300-9.jpg  \n",
      "  inflating: test-rqd/M3-BH3301-1.jpg  \n",
      "  inflating: test-rqd/M3-BH3301-10.jpg  \n",
      "  inflating: test-rqd/M3-BH3301-11.jpg  \n",
      "  inflating: test-rqd/M3-BH3301-12.jpg  \n",
      "  inflating: test-rqd/M3-BH3301-13.jpg  \n",
      "  inflating: test-rqd/M3-BH3301-14.jpg  \n",
      "  inflating: test-rqd/M3-BH3301-15.jpg  \n",
      "  inflating: test-rqd/M3-BH3301-16.jpg  \n",
      "  inflating: test-rqd/M3-BH3301-17.jpg  \n",
      "  inflating: test-rqd/M3-BH3301-18.jpg  \n",
      "  inflating: test-rqd/M3-BH3301-19.jpg  \n",
      "  inflating: test-rqd/M3-BH3301-2.jpg  \n",
      "  inflating: test-rqd/M3-BH3301-20.jpg  \n",
      "  inflating: test-rqd/M3-BH3301-21.jpg  \n",
      "  inflating: test-rqd/M3-BH3301-3.jpg  \n",
      "  inflating: test-rqd/M3-BH3301-4.jpg  \n",
      "  inflating: test-rqd/M3-BH3301-5.jpg  \n",
      "  inflating: test-rqd/M3-BH3301-6.jpg  \n",
      "  inflating: test-rqd/M3-BH3301-7.jpg  \n",
      "  inflating: test-rqd/M3-BH3301-8.jpg  \n",
      "  inflating: test-rqd/M3-BH3301-9.jpg  \n",
      "   creating: train/\n",
      "  inflating: train/M3-BH130-1.jpg    \n",
      "  inflating: train/M3-BH130-10.jpg   \n",
      "  inflating: train/M3-BH130-11.jpg   \n",
      "  inflating: train/M3-BH130-12.jpg   \n",
      "  inflating: train/M3-BH130-13.jpg   \n",
      "  inflating: train/M3-BH130-14.jpg   \n",
      "  inflating: train/M3-BH130-15.jpg   \n",
      "  inflating: train/M3-BH130-16.jpg   \n",
      "  inflating: train/M3-BH130-17.jpg   \n",
      "  inflating: train/M3-BH130-18.jpg   \n",
      "  inflating: train/M3-BH130-19.jpg   \n",
      "  inflating: train/M3-BH130-2.jpg    \n",
      "  inflating: train/M3-BH130-20.jpg   \n",
      "  inflating: train/M3-BH130-21.jpg   \n",
      "  inflating: train/M3-BH130-22.jpg   \n",
      "  inflating: train/M3-BH130-23.jpg   \n",
      "  inflating: train/M3-BH130-24.jpg   \n",
      "  inflating: train/M3-BH130-25.jpg   \n",
      "  inflating: train/M3-BH130-26.jpg   \n",
      "  inflating: train/M3-BH130-27.jpg   \n",
      "  inflating: train/M3-BH130-28.jpg   \n",
      "  inflating: train/M3-BH130-29.jpg   \n",
      "  inflating: train/M3-BH130-3.jpg    \n",
      "  inflating: train/M3-BH130-30.jpg   \n",
      "  inflating: train/M3-BH130-4.jpg    \n",
      "  inflating: train/M3-BH130-5.jpg    \n",
      "  inflating: train/M3-BH130-6.jpg    \n",
      "  inflating: train/M3-BH130-7.jpg    \n",
      "  inflating: train/M3-BH130-8.jpg    \n",
      "  inflating: train/M3-BH130-9.jpg    \n",
      "  inflating: train/M3-BH13150-1.jpg  \n",
      "  inflating: train/M3-BH13150-10.jpg  \n",
      "  inflating: train/M3-BH13150-11.jpg  \n",
      "  inflating: train/M3-BH13150-12.jpg  \n",
      "  inflating: train/M3-BH13150-13.jpg  \n",
      "  inflating: train/M3-BH13150-14.jpg  \n",
      "  inflating: train/M3-BH13150-15.jpg  \n",
      "  inflating: train/M3-BH13150-16.jpg  \n",
      "  inflating: train/M3-BH13150-17.jpg  \n",
      "  inflating: train/M3-BH13150-18.jpg  \n",
      "  inflating: train/M3-BH13150-19.jpg  \n",
      "  inflating: train/M3-BH13150-2.jpg  \n",
      "  inflating: train/M3-BH13150-20.jpg  \n",
      "  inflating: train/M3-BH13150-21.jpg  \n",
      "  inflating: train/M3-BH13150-22.jpg  \n",
      "  inflating: train/M3-BH13150-23.jpg  \n",
      "  inflating: train/M3-BH13150-24.jpg  \n",
      "  inflating: train/M3-BH13150-25.jpg  \n",
      "  inflating: train/M3-BH13150-26.jpg  \n",
      "  inflating: train/M3-BH13150-27.jpg  \n",
      "  inflating: train/M3-BH13150-28.jpg  \n",
      "  inflating: train/M3-BH13150-29.jpg  \n",
      "  inflating: train/M3-BH13150-3.jpg  \n",
      "  inflating: train/M3-BH13150-30.jpg  \n",
      "  inflating: train/M3-BH13150-31.jpg  \n",
      "  inflating: train/M3-BH13150-32.jpg  \n",
      "  inflating: train/M3-BH13150-33.jpg  \n",
      "  inflating: train/M3-BH13150-34.jpg  \n",
      "  inflating: train/M3-BH13150-35.jpg  \n",
      "  inflating: train/M3-BH13150-36.jpg  \n",
      "  inflating: train/M3-BH13150-37.jpg  \n",
      "  inflating: train/M3-BH13150-38.jpg  \n",
      "  inflating: train/M3-BH13150-39.jpg  \n",
      "  inflating: train/M3-BH13150-4.jpg  \n",
      "  inflating: train/M3-BH13150-40.jpg  \n",
      "  inflating: train/M3-BH13150-5.jpg  \n",
      "  inflating: train/M3-BH13150-6.jpg  \n",
      "  inflating: train/M3-BH13150-7.jpg  \n",
      "  inflating: train/M3-BH13150-8.jpg  \n",
      "  inflating: train/M3-BH13150-9.jpg  \n",
      "  inflating: train/M3-BH13250-1.jpg  \n",
      "  inflating: train/M3-BH13250-10.jpg  \n",
      "  inflating: train/M3-BH13250-11.jpg  \n",
      "  inflating: train/M3-BH13250-12.jpg  \n",
      "  inflating: train/M3-BH13250-13.jpg  \n",
      "  inflating: train/M3-BH13250-14.jpg  \n",
      "  inflating: train/M3-BH13250-15.jpg  \n",
      "  inflating: train/M3-BH13250-16.jpg  \n",
      "  inflating: train/M3-BH13250-17.jpg  \n",
      "  inflating: train/M3-BH13250-18.jpg  \n",
      "  inflating: train/M3-BH13250-19.jpg  \n",
      "  inflating: train/M3-BH13250-2.jpg  \n",
      "  inflating: train/M3-BH13250-20.jpg  \n",
      "  inflating: train/M3-BH13250-21.jpg  \n",
      "  inflating: train/M3-BH13250-22.jpg  \n",
      "  inflating: train/M3-BH13250-23.jpg  \n",
      "  inflating: train/M3-BH13250-24.jpg  \n",
      "  inflating: train/M3-BH13250-25.jpg  \n",
      "  inflating: train/M3-BH13250-26.jpg  \n",
      "  inflating: train/M3-BH13250-27.jpg  \n",
      "  inflating: train/M3-BH13250-28.jpg  \n",
      "  inflating: train/M3-BH13250-29.jpg  \n",
      "  inflating: train/M3-BH13250-3.jpg  \n",
      "  inflating: train/M3-BH13250-30.jpg  \n",
      "  inflating: train/M3-BH13250-31.jpg  \n",
      "  inflating: train/M3-BH13250-32.jpg  \n",
      "  inflating: train/M3-BH13250-33.jpg  \n",
      "  inflating: train/M3-BH13250-4.jpg  \n",
      "  inflating: train/M3-BH13250-5.jpg  \n",
      "  inflating: train/M3-BH13250-6.jpg  \n",
      "  inflating: train/M3-BH13250-7.jpg  \n",
      "  inflating: train/M3-BH13250-8.jpg  \n",
      "  inflating: train/M3-BH13250-9.jpg  \n",
      "  inflating: train/M3-BH13400-1.JPG  \n",
      "  inflating: train/M3-BH13400-2.JPG  \n",
      "  inflating: train/M3-BH13400-3.JPG  \n",
      "  inflating: train/M3-BH13400-4.JPG  \n",
      "  inflating: train/M3-BH13400-5.JPG  \n",
      "  inflating: train/M3-BH13400-6.JPG  \n",
      "  inflating: train/M3-BH13400-7.JPG  \n",
      "  inflating: train/M3-BH300-1.JPG    \n",
      "  inflating: train/M3-BH300-10.JPG   \n",
      "  inflating: train/M3-BH300-11.JPG   \n",
      "  inflating: train/M3-BH300-12.JPG   \n",
      "  inflating: train/M3-BH300-13.JPG   \n",
      "  inflating: train/M3-BH300-14.JPG   \n",
      "  inflating: train/M3-BH300-15.JPG   \n",
      "  inflating: train/M3-BH300-16.JPG   \n",
      "  inflating: train/M3-BH300-17.JPG   \n",
      "  inflating: train/M3-BH300-18.JPG   \n",
      "  inflating: train/M3-BH300-19.JPG   \n",
      "  inflating: train/M3-BH300-2.JPG    \n",
      "  inflating: train/M3-BH300-20.JPG   \n",
      "  inflating: train/M3-BH300-21.JPG   \n",
      "  inflating: train/M3-BH300-22.JPG   \n",
      "  inflating: train/M3-BH300-23.JPG   \n",
      "  inflating: train/M3-BH300-24.JPG   \n",
      "  inflating: train/M3-BH300-25.JPG   \n",
      "  inflating: train/M3-BH300-26.JPG   \n",
      "  inflating: train/M3-BH300-27.JPG   \n",
      "  inflating: train/M3-BH300-28.JPG   \n",
      "  inflating: train/M3-BH300-29.JPG   \n",
      "  inflating: train/M3-BH300-3.JPG    \n",
      "  inflating: train/M3-BH300-30.JPG   \n",
      "  inflating: train/M3-BH300-31.JPG   \n",
      "  inflating: train/M3-BH300-32.JPG   \n",
      "  inflating: train/M3-BH300-33.JPG   \n",
      "  inflating: train/M3-BH300-34.JPG   \n",
      "  inflating: train/M3-BH300-35.JPG   \n",
      "  inflating: train/M3-BH300-36.JPG   \n",
      "  inflating: train/M3-BH300-37.JPG   \n",
      "  inflating: train/M3-BH300-38.JPG   \n",
      "  inflating: train/M3-BH300-39.JPG   \n",
      "  inflating: train/M3-BH300-4.JPG    \n",
      "  inflating: train/M3-BH300-40.JPG   \n",
      "  inflating: train/M3-BH300-41.JPG   \n",
      "  inflating: train/M3-BH300-42.JPG   \n",
      "  inflating: train/M3-BH300-43.JPG   \n",
      "  inflating: train/M3-BH300-44.JPG   \n",
      "  inflating: train/M3-BH300-45.JPG   \n",
      "  inflating: train/M3-BH300-46.JPG   \n",
      "  inflating: train/M3-BH300-5.JPG    \n",
      "  inflating: train/M3-BH300-6.JPG    \n",
      "  inflating: train/M3-BH300-7.JPG    \n",
      "  inflating: train/M3-BH300-8.JPG    \n",
      "  inflating: train/M3-BH300-9.JPG    \n"
     ]
    }
   ],
   "source": [
    "!unzip data"
   ]
  },
  {
   "cell_type": "code",
   "execution_count": 6,
   "metadata": {
    "executionInfo": {
     "elapsed": 562,
     "status": "ok",
     "timestamp": 1629797556678,
     "user": {
      "displayName": "Samin Heydarian",
      "photoUrl": "",
      "userId": "06538545177888260526"
     },
     "user_tz": -270
    },
    "id": "rz3Sw_Xqfl_H"
   },
   "outputs": [],
   "source": [
    "x = len(os.listdir('train'))"
   ]
  },
  {
   "cell_type": "code",
   "execution_count": 7,
   "metadata": {
    "executionInfo": {
     "elapsed": 375,
     "status": "ok",
     "timestamp": 1629797560500,
     "user": {
      "displayName": "Samin Heydarian",
      "photoUrl": "",
      "userId": "06538545177888260526"
     },
     "user_tz": -270
    },
    "id": "ytKkTyvkfaUt"
   },
   "outputs": [],
   "source": [
    "def count_of_gomane():\n",
    "  dirs = os.listdir('train')\n",
    "  mylist = []\n",
    "  # This would print all the files and directories\n",
    "  for file in dirs:\n",
    "    m, g, j = file.split('-')\n",
    "    mylist.append(g)\n",
    "\n",
    "  myset = set(mylist)\n",
    "  return len(myset)"
   ]
  },
  {
   "cell_type": "code",
   "execution_count": 8,
   "metadata": {
    "executionInfo": {
     "elapsed": 348,
     "status": "ok",
     "timestamp": 1629797562602,
     "user": {
      "displayName": "Samin Heydarian",
      "photoUrl": "",
      "userId": "06538545177888260526"
     },
     "user_tz": -270
    },
    "id": "Xa2o7ijciR2y"
   },
   "outputs": [],
   "source": [
    "y = count_of_gomane()"
   ]
  },
  {
   "cell_type": "code",
   "execution_count": 9,
   "metadata": {
    "executionInfo": {
     "elapsed": 367,
     "status": "ok",
     "timestamp": 1629797564645,
     "user": {
      "displayName": "Samin Heydarian",
      "photoUrl": "",
      "userId": "06538545177888260526"
     },
     "user_tz": -270
    },
    "id": "OBubS7Mhiqtl"
   },
   "outputs": [],
   "source": [
    "df = pd.read_excel('from-to-rqd.xlsx')"
   ]
  },
  {
   "cell_type": "code",
   "execution_count": 11,
   "metadata": {
    "executionInfo": {
     "elapsed": 754,
     "status": "ok",
     "timestamp": 1629797569420,
     "user": {
      "displayName": "Samin Heydarian",
      "photoUrl": "",
      "userId": "06538545177888260526"
     },
     "user_tz": -270
    },
    "id": "tcgf22b1juKm"
   },
   "outputs": [],
   "source": [
    "df['dif'] = df['to'] - df['from']"
   ]
  },
  {
   "cell_type": "code",
   "execution_count": 23,
   "metadata": {
    "executionInfo": {
     "elapsed": 409,
     "status": "ok",
     "timestamp": 1629798033898,
     "user": {
      "displayName": "Samin Heydarian",
      "photoUrl": "",
      "userId": "06538545177888260526"
     },
     "user_tz": -270
    },
    "id": "kH1mCHHBj9Wc"
   },
   "outputs": [],
   "source": [
    "z = int(df['dif'].max())"
   ]
  },
  {
   "cell_type": "code",
   "execution_count": 20,
   "metadata": {
    "executionInfo": {
     "elapsed": 358,
     "status": "ok",
     "timestamp": 1629797803991,
     "user": {
      "displayName": "Samin Heydarian",
      "photoUrl": "",
      "userId": "06538545177888260526"
     },
     "user_tz": -270
    },
    "id": "xNK-nzxdkZYm"
   },
   "outputs": [],
   "source": [
    "w = df.loc[df['to'].idxmax()]['RunId']"
   ]
  },
  {
   "cell_type": "code",
   "execution_count": 21,
   "metadata": {
    "executionInfo": {
     "elapsed": 2,
     "status": "ok",
     "timestamp": 1629797805415,
     "user": {
      "displayName": "Samin Heydarian",
      "photoUrl": "",
      "userId": "06538545177888260526"
     },
     "user_tz": -270
    },
    "id": "Yvyfz8s6gbQD"
   },
   "outputs": [],
   "source": [
    "a, b, c, d = w.split('-')\n",
    "w = a + '-' +  b"
   ]
  },
  {
   "cell_type": "code",
   "execution_count": 27,
   "metadata": {
    "executionInfo": {
     "elapsed": 734,
     "status": "ok",
     "timestamp": 1629798073130,
     "user": {
      "displayName": "Samin Heydarian",
      "photoUrl": "",
      "userId": "06538545177888260526"
     },
     "user_tz": -270
    },
    "id": "hCEgEc5yhPqG"
   },
   "outputs": [],
   "source": [
    "with open('output.txt','w') as out:\n",
    "    out.write('{}\\n{}\\n{}\\n{}\\n'.format(x,y,z,w))"
   ]
  }
 ],
 "metadata": {
  "colab": {
   "authorship_tag": "ABX9TyPAqk7aJZ8BwuYsQm1+0kR9",
   "collapsed_sections": [],
   "mount_file_id": "1FlXJM7dRknV0MeQ-GX9BBxXOBeq8yHGu",
   "name": "Q1.ipynb",
   "provenance": []
  },
  "kernelspec": {
   "display_name": "Python 3",
   "name": "python3"
  },
  "language_info": {
   "name": "python"
  }
 },
 "nbformat": 4,
 "nbformat_minor": 0
}
